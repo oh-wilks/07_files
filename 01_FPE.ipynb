{
 "cells": [
  {
   "cell_type": "code",
   "execution_count": 1,
   "id": "763d1db4-fed5-4ed0-8022-52abad2243a6",
   "metadata": {},
   "outputs": [
    {
     "data": {
      "text/html": [
       "<div>\n",
       "<style scoped>\n",
       "    .dataframe tbody tr th:only-of-type {\n",
       "        vertical-align: middle;\n",
       "    }\n",
       "\n",
       "    .dataframe tbody tr th {\n",
       "        vertical-align: top;\n",
       "    }\n",
       "\n",
       "    .dataframe thead th {\n",
       "        text-align: right;\n",
       "    }\n",
       "</style>\n",
       "<table border=\"1\" class=\"dataframe\">\n",
       "  <thead>\n",
       "    <tr style=\"text-align: right;\">\n",
       "      <th></th>\n",
       "      <th>rep_horas</th>\n",
       "    </tr>\n",
       "  </thead>\n",
       "  <tbody>\n",
       "    <tr>\n",
       "      <th>6</th>\n",
       "      <td>2.0</td>\n",
       "    </tr>\n",
       "    <tr>\n",
       "      <th>4</th>\n",
       "      <td>2.7</td>\n",
       "    </tr>\n",
       "    <tr>\n",
       "      <th>3</th>\n",
       "      <td>3.0</td>\n",
       "    </tr>\n",
       "    <tr>\n",
       "      <th>1</th>\n",
       "      <td>3.1</td>\n",
       "    </tr>\n",
       "    <tr>\n",
       "      <th>17</th>\n",
       "      <td>3.2</td>\n",
       "    </tr>\n",
       "    <tr>\n",
       "      <th>18</th>\n",
       "      <td>3.3</td>\n",
       "    </tr>\n",
       "    <tr>\n",
       "      <th>12</th>\n",
       "      <td>3.5</td>\n",
       "    </tr>\n",
       "    <tr>\n",
       "      <th>19</th>\n",
       "      <td>3.7</td>\n",
       "    </tr>\n",
       "    <tr>\n",
       "      <th>8</th>\n",
       "      <td>3.8</td>\n",
       "    </tr>\n",
       "    <tr>\n",
       "      <th>15</th>\n",
       "      <td>4.1</td>\n",
       "    </tr>\n",
       "    <tr>\n",
       "      <th>0</th>\n",
       "      <td>4.3</td>\n",
       "    </tr>\n",
       "    <tr>\n",
       "      <th>10</th>\n",
       "      <td>4.4</td>\n",
       "    </tr>\n",
       "    <tr>\n",
       "      <th>5</th>\n",
       "      <td>4.5</td>\n",
       "    </tr>\n",
       "    <tr>\n",
       "      <th>16</th>\n",
       "      <td>5.2</td>\n",
       "    </tr>\n",
       "    <tr>\n",
       "      <th>13</th>\n",
       "      <td>5.5</td>\n",
       "    </tr>\n",
       "    <tr>\n",
       "      <th>14</th>\n",
       "      <td>5.6</td>\n",
       "    </tr>\n",
       "    <tr>\n",
       "      <th>9</th>\n",
       "      <td>5.7</td>\n",
       "    </tr>\n",
       "    <tr>\n",
       "      <th>11</th>\n",
       "      <td>5.9</td>\n",
       "    </tr>\n",
       "    <tr>\n",
       "      <th>2</th>\n",
       "      <td>6.6</td>\n",
       "    </tr>\n",
       "    <tr>\n",
       "      <th>7</th>\n",
       "      <td>6.9</td>\n",
       "    </tr>\n",
       "  </tbody>\n",
       "</table>\n",
       "</div>"
      ],
      "text/plain": [
       "    rep_horas\n",
       "6         2.0\n",
       "4         2.7\n",
       "3         3.0\n",
       "1         3.1\n",
       "17        3.2\n",
       "18        3.3\n",
       "12        3.5\n",
       "19        3.7\n",
       "8         3.8\n",
       "15        4.1\n",
       "0         4.3\n",
       "10        4.4\n",
       "5         4.5\n",
       "16        5.2\n",
       "13        5.5\n",
       "14        5.6\n",
       "9         5.7\n",
       "11        5.9\n",
       "2         6.6\n",
       "7         6.9"
      ]
     },
     "execution_count": 1,
     "metadata": {},
     "output_type": "execute_result"
    }
   ],
   "source": [
    "#importar pandas, matplotlib y math\n",
    "import pandas as pd\n",
    "import matplotlib.pyplot as plt\n",
    "import math\n",
    "\n",
    "#crear lista de datos\n",
    "data_2 = {'rep_horas': [4.3, 3.1, 6.6, 3.0, 2.7, 4.5, 2.0,\n",
    "                        6.9, 3.8, 5.7, 4.4, 5.9, 3.5, 5.5,\n",
    "                        5.6, 4.1, 5.2, 3.2, 3.3, 3.7]}\n",
    "#convertir lista a dataframe y ordenar de manera ascendente\n",
    "df2 = pd.DataFrame(data_2).sort_values('rep_horas')\n",
    "df2"
   ]
  },
  {
   "cell_type": "markdown",
   "id": "69d1b2be-253f-4e86-b315-6ad934419479",
   "metadata": {},
   "source": [
    "a) Calcular numero de intervalos con regla de Sturges"
   ]
  },
  {
   "cell_type": "code",
   "execution_count": 2,
   "id": "aa0caa8b-1aea-4769-99c9-c439e12d6be5",
   "metadata": {},
   "outputs": [
    {
     "data": {
      "text/plain": [
       "{'no_inter': 5, 'ancho': 1}"
      ]
     },
     "execution_count": 2,
     "metadata": {},
     "output_type": "execute_result"
    }
   ],
   "source": [
    "bin_no = 1 + int(math.log10(len(df2))*(3.32))\n",
    "parametros_frec = {'no_inter': bin_no,\n",
    "     'ancho' : round((max(df2['rep_horas']-min(df2['rep_horas']))/bin_no))}\n",
    "parametros_frec"
   ]
  },
  {
   "cell_type": "code",
   "execution_count": 3,
   "id": "7804eb28-cc16-47c1-9198-c7528a95bae9",
   "metadata": {},
   "outputs": [
    {
     "data": {
      "text/html": [
       "<div>\n",
       "<style scoped>\n",
       "    .dataframe tbody tr th:only-of-type {\n",
       "        vertical-align: middle;\n",
       "    }\n",
       "\n",
       "    .dataframe tbody tr th {\n",
       "        vertical-align: top;\n",
       "    }\n",
       "\n",
       "    .dataframe thead th {\n",
       "        text-align: right;\n",
       "    }\n",
       "</style>\n",
       "<table border=\"1\" class=\"dataframe\">\n",
       "  <thead>\n",
       "    <tr style=\"text-align: right;\">\n",
       "      <th></th>\n",
       "      <th>rep_horas</th>\n",
       "      <th>interv</th>\n",
       "    </tr>\n",
       "  </thead>\n",
       "  <tbody>\n",
       "    <tr>\n",
       "      <th>0</th>\n",
       "      <td>2.0</td>\n",
       "      <td>2-3</td>\n",
       "    </tr>\n",
       "    <tr>\n",
       "      <th>1</th>\n",
       "      <td>2.7</td>\n",
       "      <td>2-3</td>\n",
       "    </tr>\n",
       "    <tr>\n",
       "      <th>2</th>\n",
       "      <td>3.0</td>\n",
       "      <td>3-4</td>\n",
       "    </tr>\n",
       "    <tr>\n",
       "      <th>3</th>\n",
       "      <td>3.1</td>\n",
       "      <td>3-4</td>\n",
       "    </tr>\n",
       "    <tr>\n",
       "      <th>4</th>\n",
       "      <td>3.2</td>\n",
       "      <td>3-4</td>\n",
       "    </tr>\n",
       "    <tr>\n",
       "      <th>5</th>\n",
       "      <td>3.3</td>\n",
       "      <td>3-4</td>\n",
       "    </tr>\n",
       "    <tr>\n",
       "      <th>6</th>\n",
       "      <td>3.5</td>\n",
       "      <td>3-4</td>\n",
       "    </tr>\n",
       "    <tr>\n",
       "      <th>7</th>\n",
       "      <td>3.7</td>\n",
       "      <td>3-4</td>\n",
       "    </tr>\n",
       "    <tr>\n",
       "      <th>8</th>\n",
       "      <td>3.8</td>\n",
       "      <td>3-4</td>\n",
       "    </tr>\n",
       "    <tr>\n",
       "      <th>9</th>\n",
       "      <td>4.1</td>\n",
       "      <td>4-5</td>\n",
       "    </tr>\n",
       "    <tr>\n",
       "      <th>10</th>\n",
       "      <td>4.3</td>\n",
       "      <td>4-5</td>\n",
       "    </tr>\n",
       "    <tr>\n",
       "      <th>11</th>\n",
       "      <td>4.4</td>\n",
       "      <td>4-5</td>\n",
       "    </tr>\n",
       "    <tr>\n",
       "      <th>12</th>\n",
       "      <td>4.5</td>\n",
       "      <td>4-5</td>\n",
       "    </tr>\n",
       "    <tr>\n",
       "      <th>13</th>\n",
       "      <td>5.2</td>\n",
       "      <td>5-6</td>\n",
       "    </tr>\n",
       "    <tr>\n",
       "      <th>14</th>\n",
       "      <td>5.5</td>\n",
       "      <td>5-6</td>\n",
       "    </tr>\n",
       "    <tr>\n",
       "      <th>15</th>\n",
       "      <td>5.6</td>\n",
       "      <td>5-6</td>\n",
       "    </tr>\n",
       "    <tr>\n",
       "      <th>16</th>\n",
       "      <td>5.7</td>\n",
       "      <td>5-6</td>\n",
       "    </tr>\n",
       "    <tr>\n",
       "      <th>17</th>\n",
       "      <td>5.9</td>\n",
       "      <td>5-6</td>\n",
       "    </tr>\n",
       "    <tr>\n",
       "      <th>18</th>\n",
       "      <td>6.6</td>\n",
       "      <td>6-7</td>\n",
       "    </tr>\n",
       "    <tr>\n",
       "      <th>19</th>\n",
       "      <td>6.9</td>\n",
       "      <td>6-7</td>\n",
       "    </tr>\n",
       "  </tbody>\n",
       "</table>\n",
       "</div>"
      ],
      "text/plain": [
       "    rep_horas interv\n",
       "0         2.0    2-3\n",
       "1         2.7    2-3\n",
       "2         3.0    3-4\n",
       "3         3.1    3-4\n",
       "4         3.2    3-4\n",
       "5         3.3    3-4\n",
       "6         3.5    3-4\n",
       "7         3.7    3-4\n",
       "8         3.8    3-4\n",
       "9         4.1    4-5\n",
       "10        4.3    4-5\n",
       "11        4.4    4-5\n",
       "12        4.5    4-5\n",
       "13        5.2    5-6\n",
       "14        5.5    5-6\n",
       "15        5.6    5-6\n",
       "16        5.7    5-6\n",
       "17        5.9    5-6\n",
       "18        6.6    6-7\n",
       "19        6.9    6-7"
      ]
     },
     "execution_count": 3,
     "metadata": {},
     "output_type": "execute_result"
    }
   ],
   "source": [
    "#crear una columna condicional en base al numero de intervalos\n",
    "df2['interv'] = '2-3'\n",
    "df2.loc[(df2['rep_horas'] >= 2 ) \n",
    "       & (df2['rep_horas'] < 3), 'interv'] = '2-3'\n",
    "df2.loc[(df2['rep_horas'] >= 3 ) \n",
    "       & (df2['rep_horas'] < 4), 'interv'] = '3-4'\n",
    "df2.loc[(df2['rep_horas'] >= 4 ) \n",
    "       & (df2['rep_horas'] < 5), 'interv'] = '4-5'\n",
    "df2.loc[(df2['rep_horas'] >= 5 ) \n",
    "       & (df2['rep_horas'] < 6), 'interv'] = '5-6'\n",
    "df2.loc[(df2['rep_horas'] >= 6 ) \n",
    "       & (df2['rep_horas'] < 7), 'interv'] = '6-7'\n",
    "df2.reset_index(drop = True)"
   ]
  },
  {
   "cell_type": "code",
   "execution_count": 4,
   "id": "186c08c5-d243-4e13-8388-912f331d2440",
   "metadata": {},
   "outputs": [
    {
     "data": {
      "text/html": [
       "<div>\n",
       "<style scoped>\n",
       "    .dataframe tbody tr th:only-of-type {\n",
       "        vertical-align: middle;\n",
       "    }\n",
       "\n",
       "    .dataframe tbody tr th {\n",
       "        vertical-align: top;\n",
       "    }\n",
       "\n",
       "    .dataframe thead th {\n",
       "        text-align: right;\n",
       "    }\n",
       "</style>\n",
       "<table border=\"1\" class=\"dataframe\">\n",
       "  <thead>\n",
       "    <tr style=\"text-align: right;\">\n",
       "      <th></th>\n",
       "      <th>interv</th>\n",
       "      <th>frec</th>\n",
       "    </tr>\n",
       "  </thead>\n",
       "  <tbody>\n",
       "    <tr>\n",
       "      <th>0</th>\n",
       "      <td>2-3</td>\n",
       "      <td>2</td>\n",
       "    </tr>\n",
       "    <tr>\n",
       "      <th>1</th>\n",
       "      <td>3-4</td>\n",
       "      <td>7</td>\n",
       "    </tr>\n",
       "    <tr>\n",
       "      <th>2</th>\n",
       "      <td>4-5</td>\n",
       "      <td>4</td>\n",
       "    </tr>\n",
       "    <tr>\n",
       "      <th>3</th>\n",
       "      <td>5-6</td>\n",
       "      <td>5</td>\n",
       "    </tr>\n",
       "    <tr>\n",
       "      <th>4</th>\n",
       "      <td>6-7</td>\n",
       "      <td>2</td>\n",
       "    </tr>\n",
       "  </tbody>\n",
       "</table>\n",
       "</div>"
      ],
      "text/plain": [
       "  interv  frec\n",
       "0    2-3     2\n",
       "1    3-4     7\n",
       "2    4-5     4\n",
       "3    5-6     5\n",
       "4    6-7     2"
      ]
     },
     "execution_count": 4,
     "metadata": {},
     "output_type": "execute_result"
    }
   ],
   "source": [
    "#agrupar los datos en la variable categorica nueva\n",
    "df3 = df2.groupby(['interv'])['rep_horas'].count().reset_index()\n",
    "df3.rename(columns = {'rep_horas' : 'frec'})"
   ]
  },
  {
   "cell_type": "code",
   "execution_count": 5,
   "id": "f78fa027-628a-4e1b-8bdf-e16888f45317",
   "metadata": {},
   "outputs": [
    {
     "data": {
      "text/html": [
       "<div>\n",
       "<style scoped>\n",
       "    .dataframe tbody tr th:only-of-type {\n",
       "        vertical-align: middle;\n",
       "    }\n",
       "\n",
       "    .dataframe tbody tr th {\n",
       "        vertical-align: top;\n",
       "    }\n",
       "\n",
       "    .dataframe thead th {\n",
       "        text-align: right;\n",
       "    }\n",
       "</style>\n",
       "<table border=\"1\" class=\"dataframe\">\n",
       "  <thead>\n",
       "    <tr style=\"text-align: right;\">\n",
       "      <th></th>\n",
       "      <th>interv</th>\n",
       "      <th>rep_horas</th>\n",
       "      <th>frec_r</th>\n",
       "      <th>frec_p</th>\n",
       "    </tr>\n",
       "  </thead>\n",
       "  <tbody>\n",
       "    <tr>\n",
       "      <th>0</th>\n",
       "      <td>2-3</td>\n",
       "      <td>2</td>\n",
       "      <td>0.10</td>\n",
       "      <td>10.0</td>\n",
       "    </tr>\n",
       "    <tr>\n",
       "      <th>1</th>\n",
       "      <td>3-4</td>\n",
       "      <td>7</td>\n",
       "      <td>0.35</td>\n",
       "      <td>35.0</td>\n",
       "    </tr>\n",
       "    <tr>\n",
       "      <th>2</th>\n",
       "      <td>4-5</td>\n",
       "      <td>4</td>\n",
       "      <td>0.20</td>\n",
       "      <td>20.0</td>\n",
       "    </tr>\n",
       "    <tr>\n",
       "      <th>3</th>\n",
       "      <td>5-6</td>\n",
       "      <td>5</td>\n",
       "      <td>0.25</td>\n",
       "      <td>25.0</td>\n",
       "    </tr>\n",
       "    <tr>\n",
       "      <th>4</th>\n",
       "      <td>6-7</td>\n",
       "      <td>2</td>\n",
       "      <td>0.10</td>\n",
       "      <td>10.0</td>\n",
       "    </tr>\n",
       "  </tbody>\n",
       "</table>\n",
       "</div>"
      ],
      "text/plain": [
       "  interv  rep_horas  frec_r  frec_p\n",
       "0    2-3          2    0.10    10.0\n",
       "1    3-4          7    0.35    35.0\n",
       "2    4-5          4    0.20    20.0\n",
       "3    5-6          5    0.25    25.0\n",
       "4    6-7          2    0.10    10.0"
      ]
     },
     "execution_count": 5,
     "metadata": {},
     "output_type": "execute_result"
    }
   ],
   "source": [
    "#agregar columna para calcular la frecuencia relativa\n",
    "df3['frec_r'] = (df3['rep_horas']/len(df2))\n",
    "df3['frec_p'] = (df3['rep_horas']/len(df2))*100\n",
    "df3"
   ]
  },
  {
   "cell_type": "markdown",
   "id": "c3e2daf4-ea08-43b1-bff5-ce7baf2e4a42",
   "metadata": {},
   "source": [
    "b) histograma y poligono de frecuencias"
   ]
  },
  {
   "cell_type": "code",
   "execution_count": 6,
   "id": "5f494dbc-a5e4-4a7b-9c81-0d4388586fa9",
   "metadata": {},
   "outputs": [
    {
     "data": {
      "text/plain": [
       "Text(0.5, 0, 'Intervalos')"
      ]
     },
     "execution_count": 6,
     "metadata": {},
     "output_type": "execute_result"
    },
    {
     "data": {
      "image/png": "[encoded data removed]",
      "text/plain": [
       "<Figure size 432x288 with 1 Axes>"
      ]
     },
     "metadata": {
      "needs_background": "light"
     },
     "output_type": "display_data"
    }
   ],
   "source": [
    "#creacion de histograma, usando df3\n",
    "fig, ax = plt.subplots()\n",
    "ax.bar(df3['interv'], df3['rep_horas'], color = '#CD5430')\n",
    "plt.style.use('ggplot')\n",
    "plt.grid(True)\n",
    "plt.title('Histograma')\n",
    "ax.set_ylabel(\"Numero de Reparaciones\")\n",
    "ax.set_xlabel('Intervalos')"
   ]
  },
  {
   "cell_type": "code",
   "execution_count": 16,
   "id": "3147e1ab-c40b-420a-a6bb-7ba9abdb3505",
   "metadata": {},
   "outputs": [
    {
     "data": {
      "text/plain": [
       "<matplotlib.legend.Legend at 0x7f780918fa30>"
      ]
     },
     "execution_count": 16,
     "metadata": {},
     "output_type": "execute_result"
    },
    {
     "data": {
      "image/png": "[encoded data removed]",
      "text/plain": [
       "<Figure size 432x288 with 1 Axes>"
      ]
     },
     "metadata": {},
     "output_type": "display_data"
    }
   ],
   "source": [
    "#creacion de poligono de frecuencias, mismo codigo anterior\n",
    "fig, ax = plt.subplots()\n",
    "ax.plot(df3['interv'], df3['rep_horas'],\n",
    "        color = '#CD5430',\n",
    "       marker = \"o\",\n",
    "       label='Frecuencia')\n",
    "plt.style.use('ggplot')\n",
    "plt.grid(True)\n",
    "plt.title('Poligono de Frecuencias')\n",
    "ax.set_ylabel(\"Numero de Reparaciones\")\n",
    "ax.set_xlabel('Intervalos')\n",
    "ax.legend(bbox_to_anchor=(0.7,.85,.1,1),ncol=1,\n",
    "mode='expand', loc='lower left')"
   ]
  },
  {
   "cell_type": "markdown",
   "id": "52431fb7-e7b6-412e-9457-6a6b3a16302b",
   "metadata": {},
   "source": [
    "c) Calcule la media aritmetica, mediana y moda de datos no agrupados"
   ]
  },
  {
   "cell_type": "code",
   "execution_count": 8,
   "id": "c695b9da-cf93-4dd7-a94a-1db02b3becd1",
   "metadata": {},
   "outputs": [],
   "source": [
    "df2_mean = df2['rep_horas'].mean()\n",
    "df2_median = df2['rep_horas'].median()\n",
    "# encontrar la frecuencia maxima con max()\n",
    "moda_int = max(df3['rep_horas'])\n",
    "# encontrar con .query el registro correspondiente a la frecuencia maxima\n",
    "moda = df3.query('rep_horas == 7')['interv']\n"
   ]
  },
  {
   "cell_type": "code",
   "execution_count": 9,
   "id": "8396f59c-15ac-4936-b1b0-417ca357cb85",
   "metadata": {},
   "outputs": [
    {
     "name": "stdout",
     "output_type": "stream",
     "text": [
      "medidas de datos no agrupados: \n",
      "{'media': 4.35, 'mediana': 4.2, 'moda': 'inter 3-4'}\n"
     ]
    }
   ],
   "source": [
    "c = {'media': df2_mean, 'mediana' : round(df2_median, ndigits=1),\n",
    "    'moda': 'inter 3-4'}\n",
    "print(f'medidas de datos no agrupados: \\n{c}')"
   ]
  },
  {
   "cell_type": "code",
   "execution_count": 10,
   "id": "59a37e70-f3b7-40e2-8cc5-af06d80b4d17",
   "metadata": {},
   "outputs": [
    {
     "data": {
      "text/plain": [
       "4.4"
      ]
     },
     "execution_count": 10,
     "metadata": {},
     "output_type": "execute_result"
    }
   ],
   "source": [
    "# media agrupada\n",
    "df3['punto_medio'] = [2.5,3.5,4.5,5.5,6.5]\n",
    "df3.rename(columns = {'rep_horas': 'frecuencia'}).drop(columns = ['frec_r', 'frec_p'])\n",
    "df3['multiplicacion'] = [5, 24.5, 18, 27.5, 13]\n",
    "df3.rename(columns = {'rep_horas': 'frecuencia'}).drop(columns = ['frec_r', 'frec_p'])\n",
    "df3.sum()\n",
    "media_agrupada = 88/20\n",
    "media_agrupada"
   ]
  },
  {
   "cell_type": "code",
   "execution_count": 11,
   "id": "128706b9-1ada-4a6e-a0ca-2898da8d67df",
   "metadata": {},
   "outputs": [
    {
     "data": {
      "text/plain": [
       "5.5"
      ]
     },
     "execution_count": 11,
     "metadata": {},
     "output_type": "execute_result"
    }
   ],
   "source": [
    "#mediana agrupada\n",
    "mediana_agrupada = 4 + ((10-7)/4)*2\n",
    "mediana_agrupada"
   ]
  },
  {
   "cell_type": "code",
   "execution_count": 12,
   "id": "9ef6f511-745f-4321-a7c7-b482820a0384",
   "metadata": {},
   "outputs": [
    {
     "data": {
      "text/plain": [
       "1.3570478795416252"
      ]
     },
     "execution_count": 12,
     "metadata": {},
     "output_type": "execute_result"
    }
   ],
   "source": [
    "# desviacion estandar\n",
    "df2_std = df2['rep_horas'].std()\n",
    "df2_std\n"
   ]
  },
  {
   "cell_type": "code",
   "execution_count": 13,
   "id": "5054d234-9ba1-43ce-85ef-4716935d6538",
   "metadata": {},
   "outputs": [
    {
     "data": {
      "text/plain": [
       "0.33160215404632526"
      ]
     },
     "execution_count": 13,
     "metadata": {},
     "output_type": "execute_result"
    }
   ],
   "source": [
    "# coeficiente de asimetria\n",
    "as_ = 3*(df2_mean - df2_median)/(df2_std)\n",
    "as_"
   ]
  },
  {
   "cell_type": "code",
   "execution_count": 14,
   "id": "f48b8f98-dbfc-4e75-89e3-346ff596d0db",
   "metadata": {},
   "outputs": [
    {
     "data": {
      "text/plain": [
       "-0.7882060622100036"
      ]
     },
     "execution_count": 14,
     "metadata": {},
     "output_type": "execute_result"
    }
   ],
   "source": [
    "# curtosis\n",
    "kurt = df2['rep_horas'].kurt()\n",
    "kurt\n",
    "\n"
   ]
  },
  {
   "cell_type": "code",
   "execution_count": 15,
   "id": "902bd7de-634a-4f45-8bed-4c2e1dd86993",
   "metadata": {},
   "outputs": [
    {
     "name": "stderr",
     "output_type": "stream",
     "text": [
      "/Users/ivanwilcox/opt/anaconda3/lib/python3.9/site-packages/seaborn/distributions.py:1699: FutureWarning: The `bw` parameter is deprecated in favor of `bw_method` and `bw_adjust`. Using 0.5 for `bw_method`, but please see the docs for the new parameters and update your code.\n",
      "  warnings.warn(msg, FutureWarning)\n"
     ]
    },
    {
     "data": {
      "text/plain": [
       "<AxesSubplot:ylabel='Density'>"
      ]
     },
     "execution_count": 15,
     "metadata": {},
     "output_type": "execute_result"
    },
    {
     "data": {
      "image/png": "[encoded data removed]",
      "text/plain": [
       "<Figure size 432x288 with 1 Axes>"
      ]
     },
     "metadata": {},
     "output_type": "display_data"
    }
   ],
   "source": [
    "#  curva de distribucion\n",
    "\n",
    "import seaborn as sns\n",
    "import numpy as np\n",
    "sns.set_style('whitegrid')\n",
    "sns.kdeplot(np.array(df2['rep_horas']), bw=0.5)"
   ]
  },
  {
   "cell_type": "code",
   "execution_count": null,
   "id": "d8741fab-bf07-47ef-9c2d-a2af232e01d1",
   "metadata": {},
   "outputs": [],
   "source": []
  }
 ],
 "metadata": {
  "kernelspec": {
   "display_name": "Python 3 (ipykernel)",
   "language": "python",
   "name": "python3"
  },
  "language_info": {
   "codemirror_mode": {
    "name": "ipython",
    "version": 3
   },
   "file_extension": ".py",
   "mimetype": "text/x-python",
   "name": "python",
   "nbconvert_exporter": "python",
   "pygments_lexer": "ipython3",
   "version": "3.9.12"
  }
 },
 "nbformat": 4,
 "nbformat_minor": 5
}
